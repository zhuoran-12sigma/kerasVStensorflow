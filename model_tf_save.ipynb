{
 "cells": [
  {
   "cell_type": "code",
   "execution_count": 1,
   "metadata": {},
   "outputs": [
    {
     "name": "stderr",
     "output_type": "stream",
     "text": [
      "c:\\users\\zgu\\anaconda3\\envs\\tensorflow\\lib\\site-packages\\h5py\\__init__.py:36: FutureWarning: Conversion of the second argument of issubdtype from `float` to `np.floating` is deprecated. In future, it will be treated as `np.float64 == np.dtype(float).type`.\n",
      "  from ._conv import register_converters as _register_converters\n"
     ]
    },
    {
     "name": "stdout",
     "output_type": "stream",
     "text": [
      "Extracting /tmp/data/train-images-idx3-ubyte.gz\n",
      "Extracting /tmp/data/train-labels-idx1-ubyte.gz\n",
      "Extracting /tmp/data/t10k-images-idx3-ubyte.gz\n",
      "Extracting /tmp/data/t10k-labels-idx1-ubyte.gz\n"
     ]
    }
   ],
   "source": [
    "from __future__ import division, print_function, absolute_import\n",
    "\n",
    "import tensorflow as tf\n",
    "\n",
    "from tensorflow.python.framework import graph_util\n",
    "\n",
    "\n",
    "# Import MNIST data\n",
    "from tensorflow.examples.tutorials.mnist import input_data\n",
    "mnist = input_data.read_data_sets(\"/tmp/data/\", one_hot=True)\n",
    "\n",
    "# Training Parameters\n",
    "learning_rate = 0.001\n",
    "num_steps = 20000\n",
    "batch_size = 128\n",
    "display_step = 100\n",
    "\n",
    "# Network Parameters\n",
    "num_input = 784 # MNIST data input (img shape: 28*28)\n",
    "num_classes = 10 # MNIST total classes (0-9 digits)\n",
    "dropout = 0.6 # Dropout, probability to keep units\n",
    "\n",
    "# tf Graph input\n",
    "X = tf.placeholder(tf.float32, [None, num_input])\n",
    "Y = tf.placeholder(tf.float32, [None, num_classes])\n",
    "keep_prob = tf.placeholder(tf.float32) # dropout (keep probability)"
   ]
  },
  {
   "cell_type": "code",
   "execution_count": 2,
   "metadata": {},
   "outputs": [
    {
     "name": "stdout",
     "output_type": "stream",
     "text": [
      "WARNING:tensorflow:From <ipython-input-2-ba679531a062>:77: softmax_cross_entropy_with_logits (from tensorflow.python.ops.nn_ops) is deprecated and will be removed in a future version.\n",
      "Instructions for updating:\n",
      "\n",
      "Future major versions of TensorFlow will allow gradients to flow\n",
      "into the labels input on backprop by default.\n",
      "\n",
      "See tf.nn.softmax_cross_entropy_with_logits_v2.\n",
      "\n"
     ]
    }
   ],
   "source": [
    "# Create some wrappers for simplicity\n",
    "def conv2d(x, W, b, strides=1):\n",
    "    # Conv2D wrapper, with bias and relu activation\n",
    "    x = tf.nn.conv2d(x, W, strides=[1, strides, strides, 1], padding='SAME')\n",
    "    x = tf.nn.bias_add(x, b)\n",
    "    return tf.nn.relu(x)\n",
    "\n",
    "\n",
    "def maxpool2d(x, k=2):\n",
    "    # MaxPool2D wrapper\n",
    "    return tf.nn.max_pool(x, ksize=[1, k, k, 1], strides=[1, k, k, 1],\n",
    "                          padding='SAME')\n",
    "\n",
    "\n",
    "# Create model\n",
    "def conv_net(x, weights, biases, dropout):\n",
    "    # MNIST data input is a 1-D vector of 784 features (28*28 pixels)\n",
    "    # Reshape to match picture format [Height x Width x Channel]\n",
    "    # Tensor input become 4-D: [Batch Size, Height, Width, Channel]\n",
    "    x = tf.reshape(x, shape=[-1, 28, 28, 1])\n",
    "\n",
    "    # Convolution Layer\n",
    "    conv1 = conv2d(x, weights['wc1'], biases['bc1'])\n",
    "    # Max Pooling (down-sampling)\n",
    "    conv1 = maxpool2d(conv1, k=2)\n",
    "\n",
    "    # Convolution Layer\n",
    "    conv2 = conv2d(conv1, weights['wc2'], biases['bc2'])\n",
    "    # Max Pooling (down-sampling)\n",
    "    conv2 = maxpool2d(conv2, k=2)\n",
    "\n",
    "    # Fully connected layer\n",
    "    # Reshape conv2 output to fit fully connected layer input\n",
    "    fc1 = tf.reshape(conv2, [-1, weights['wd1'].get_shape().as_list()[0]])\n",
    "    fc1 = tf.add(tf.matmul(fc1, weights['wd1']), biases['bd1'])\n",
    "    fc1 = tf.nn.relu(fc1)\n",
    "    # Apply Dropout\n",
    "    fc1 = tf.nn.dropout(fc1, dropout)\n",
    "\n",
    "    # Output, class prediction\n",
    "    out = tf.add(tf.matmul(fc1, weights['wout']), biases['bout'], name = 'op_to_store')\n",
    "    return out\n",
    "\n",
    "# Store layers weight & bias\n",
    "weights = {\n",
    "    # 5x5 conv, 1 input, 32 outputs\n",
    "#     'wc1': tf.Variable(tf.random_normal([5, 5, 1, 32])),\n",
    "    'wc1': tf.get_variable('wc1', [5,5,1,32], initializer=tf.contrib.keras.initializers.glorot_uniform(seed=None)),\n",
    "    # 5x5 conv, 32 inputs, 64 outputs\n",
    "#     'wc2': tf.Variable(tf.random_normal([5, 5, 32, 64])),\n",
    "    'wc2': tf.get_variable('wc2', [5,5,32,64], initializer=tf.contrib.keras.initializers.glorot_uniform(seed=None)),\n",
    "    # fully connected, 7*7*64 inputs, 1024 outputs\n",
    "#     'wd1': tf.Variable(tf.random_normal([7*7*64, 1024])),\n",
    "    'wd1': tf.get_variable('wd1', [7*7*64,1024], initializer=tf.contrib.keras.initializers.glorot_uniform(seed=None)),\n",
    "    # 1024 inputs, 10 outputs (class prediction)\n",
    "#     'out': tf.Variable(tf.random_normal([1024, num_classes]))\n",
    "    'wout': tf.get_variable('wout', [1024, num_classes], initializer=tf.contrib.keras.initializers.glorot_uniform(seed=None))\n",
    "}\n",
    "\n",
    "biases = {\n",
    "#     'bc1': tf.Variable(tf.random_normal([32])),\n",
    "    'bc1': tf.get_variable('bc1', [32], initializer=tf.zeros_initializer),\n",
    "#     'bc2': tf.Variable(tf.random_normal([64])),\n",
    "    'bc2': tf.get_variable('bc2', [64], initializer=tf.zeros_initializer),\n",
    "#     'bd1': tf.Variable(tf.random_normal([1024])),\n",
    "    'bd1': tf.get_variable('bd1', [1024], initializer=tf.zeros_initializer),\n",
    "#     'out': tf.Variable(tf.random_normal([num_classes]))\n",
    "    'bout': tf.get_variable('bout', [num_classes], initializer=tf.zeros_initializer)\n",
    "}\n",
    "\n",
    "# Construct model\n",
    "logits = conv_net(X, weights, biases, keep_prob)\n",
    "prediction = tf.nn.softmax(logits)\n",
    "\n",
    "# Define loss and optimizer\n",
    "loss_op = tf.reduce_mean(tf.nn.softmax_cross_entropy_with_logits(\n",
    "    logits=logits, labels=Y))\n",
    "optimizer = tf.train.AdamOptimizer(learning_rate=learning_rate)\n",
    "train_op = optimizer.minimize(loss_op)\n",
    "\n",
    "\n",
    "# Evaluate model\n",
    "correct_pred = tf.equal(tf.argmax(prediction, 1), tf.argmax(Y, 1))\n",
    "\n",
    "accuracy = tf.reduce_mean(tf.cast(correct_pred, tf.float32))\n",
    "\n",
    "# Initialize the variables (i.e. assign their default value)\n",
    "init = tf.global_variables_initializer()"
   ]
  },
  {
   "cell_type": "code",
   "execution_count": 3,
   "metadata": {},
   "outputs": [],
   "source": [
    "X_train = mnist.train.images[:int(55000*0.9)] -0.5\n",
    "y_train = mnist.train.labels[:int(55000*0.9)]\n",
    "X_val = mnist.train.images[int(55000*0.9):]-0.5\n",
    "y_val = mnist.train.labels[int(55000*0.9):]\n",
    "X_test = mnist.test.images-0.5\n",
    "y_test = mnist.test.labels\n",
    "\n"
   ]
  },
  {
   "cell_type": "code",
   "execution_count": 5,
   "metadata": {},
   "outputs": [
    {
     "name": "stdout",
     "output_type": "stream",
     "text": [
      "Epoch 0, Minibatch Loss= 0.0146, Training Accuracy= 1.0000\n",
      "Epoch 0, Minibatch Loss= 0.0541, Validation Accuracy= 0.9838\n",
      "INFO:tensorflow:Froze 8 variables.\n",
      "Converted 8 variables to const ops.\n",
      "Test loss: 0.046863414\n",
      "Test acc 0.9854\n",
      "Epoch 1, Minibatch Loss= 0.0067, Training Accuracy= 1.0000\n",
      "Epoch 1, Minibatch Loss= 0.0381, Validation Accuracy= 0.9891\n",
      "INFO:tensorflow:Froze 8 variables.\n",
      "Converted 8 variables to const ops.\n",
      "Test loss: 0.03331841\n",
      "Test acc 0.9886\n",
      "Epoch 2, Minibatch Loss= 0.0031, Training Accuracy= 1.0000\n",
      "Epoch 2, Minibatch Loss= 0.0399, Validation Accuracy= 0.9878\n",
      "Optimization Finished!\n"
     ]
    }
   ],
   "source": [
    "index = 0\n",
    "epochs = 10\n",
    "# Start training\n",
    "with tf.Session() as sess: \n",
    "    # Run the initializer\n",
    "    sess.run(init)\n",
    "    \n",
    "    val_loss = float(\"Inf\")\n",
    "    val_loss_new = float(\"Inf\")\n",
    "    for epoch in range(epochs):\n",
    "        index = 0\n",
    "        if val_loss_new > val_loss:\n",
    "            break\n",
    "        else:\n",
    "            val_loss = val_loss_new\n",
    "        #         batch_x, batch_y = mnist.train.next_batch(batch_size)\n",
    "            while(index < len(X_train)):\n",
    "                if index + batch_size > len(X_train):\n",
    "                    batch_x = X_train[index:]\n",
    "                    batch_y = y_train[index:]\n",
    "                    index += batch_size\n",
    "                else:\n",
    "                    batch_x = X_train[index: index + batch_size]\n",
    "                    batch_y = y_train[index: index + batch_size]\n",
    "                    index += batch_size\n",
    "                # Run optimization op (backprop)\n",
    "                sess.run(train_op, feed_dict={X: batch_x, Y: batch_y, keep_prob: 0.6})\n",
    "#         if index + batch_size > len(X_train):\n",
    "            # Calculate batch loss and accuracy\n",
    "            loss, acc = sess.run([loss_op, accuracy], feed_dict={X: batch_x,\n",
    "                                                                 Y: batch_y,\n",
    "                                                                 keep_prob: 1.0})\n",
    "            print(\"Epoch \" + str(epoch) + \", Minibatch Loss= \" + \\\n",
    "                  \"{:.4f}\".format(loss) + \", Training Accuracy= \" + \\\n",
    "                  \"{:.4f}\".format(acc))\n",
    "\n",
    "            loss, acc = sess.run([loss_op, accuracy], feed_dict={X: X_val,\n",
    "                                                                 Y: y_val,\n",
    "                                                                 keep_prob: 1.0})\n",
    "            val_loss_new = loss\n",
    "            print(\"Epoch \" + str(epoch) + \", Minibatch Loss= \" + \\\n",
    "                  \"{:.4f}\".format(loss) + \", Validation Accuracy= \" + \\\n",
    "                  \"{:.4f}\".format(acc))\n",
    "\n",
    "            if loss<val_loss:\n",
    "                output_names = ['op_to_store']\n",
    "#                 output_names += [v.op.name for v in tf.global_variables()]\n",
    "                constant_graph = graph_util.convert_variables_to_constants(sess, sess.graph_def, output_names)\n",
    "                loss, acc = sess.run([loss_op, accuracy], feed_dict={X: X_test,\n",
    "                              Y: y_test,\n",
    "                              keep_prob: 1.0})\n",
    "                print(\"Test loss:\", loss)\n",
    "                print(\"Test acc\", acc)\n",
    "                \n",
    "                \n",
    "    print(\"Optimization Finished!\")\n",
    "\n",
    "    # Calculate accuracy for 256 MNIST test images\n",
    "\n",
    "#     loss, acc = sess.run([loss_op, accuracy], feed_dict={X: X_test,\n",
    "#                                   Y: y_test,\n",
    "#                                   keep_prob: 1.0})\n",
    "#     print(\"Test loss:\", loss)\n",
    "#     print(\"Test acc\", acc)\n",
    "#     constant_graph = graph_util.convert_variables_to_constants(sess, sess.graph_def, ['op_to_store'])\n",
    "\n",
    "    with tf.gfile.FastGFile('model.pb', mode='wb') as f:\n",
    "        f.write(constant_graph.SerializeToString())\n",
    "    "
   ]
  },
  {
   "cell_type": "code",
   "execution_count": 8,
   "metadata": {},
   "outputs": [],
   "source": [
    "x_new, y_new = mnist.train.next_batch(batch_size)"
   ]
  },
  {
   "cell_type": "code",
   "execution_count": 13,
   "metadata": {},
   "outputs": [
    {
     "data": {
      "text/plain": [
       "(55000, 784)"
      ]
     },
     "execution_count": 13,
     "metadata": {},
     "output_type": "execute_result"
    }
   ],
   "source": [
    "(mnist.train.images.shape)"
   ]
  },
  {
   "cell_type": "code",
   "execution_count": 17,
   "metadata": {},
   "outputs": [
    {
     "data": {
      "text/plain": [
       "<tensorflow.python.ops.init_ops.VarianceScaling at 0x181699a320>"
      ]
     },
     "execution_count": 17,
     "metadata": {},
     "output_type": "execute_result"
    }
   ],
   "source": [
    "tf.contrib.keras.initializers.glorot_uniform(seed=None)"
   ]
  },
  {
   "cell_type": "code",
   "execution_count": 15,
   "metadata": {},
   "outputs": [
    {
     "ename": "NameError",
     "evalue": "name 'glorot_uniform' is not defined",
     "output_type": "error",
     "traceback": [
      "\u001b[0;31m---------------------------------------------------------------------------\u001b[0m",
      "\u001b[0;31mNameError\u001b[0m                                 Traceback (most recent call last)",
      "\u001b[0;32m<ipython-input-15-3b0ee9502ed3>\u001b[0m in \u001b[0;36m<module>\u001b[0;34m()\u001b[0m\n\u001b[0;32m----> 1\u001b[0;31m \u001b[0mglorot_uniform\u001b[0m\u001b[0;34m(\u001b[0m\u001b[0mseed\u001b[0m\u001b[0;34m=\u001b[0m\u001b[0;32mNone\u001b[0m\u001b[0;34m)\u001b[0m\u001b[0;34m\u001b[0m\u001b[0m\n\u001b[0m",
      "\u001b[0;31mNameError\u001b[0m: name 'glorot_uniform' is not defined"
     ]
    }
   ],
   "source": [
    "glorot_uniform(seed=None)"
   ]
  },
  {
   "cell_type": "code",
   "execution_count": 18,
   "metadata": {},
   "outputs": [
    {
     "data": {
      "text/plain": [
       "<tf.Tensor 'random_normal_32:0' shape=(5, 5, 1, 32) dtype=float32>"
      ]
     },
     "execution_count": 18,
     "metadata": {},
     "output_type": "execute_result"
    }
   ],
   "source": [
    "tf.random_normal([5, 5, 1, 32])"
   ]
  },
  {
   "cell_type": "code",
   "execution_count": null,
   "metadata": {},
   "outputs": [],
   "source": []
  }
 ],
 "metadata": {
  "kernelspec": {
   "display_name": "Python 3",
   "language": "python",
   "name": "python3"
  },
  "language_info": {
   "codemirror_mode": {
    "name": "ipython",
    "version": 3
   },
   "file_extension": ".py",
   "mimetype": "text/x-python",
   "name": "python",
   "nbconvert_exporter": "python",
   "pygments_lexer": "ipython3",
   "version": "3.6.4"
  }
 },
 "nbformat": 4,
 "nbformat_minor": 2
}
