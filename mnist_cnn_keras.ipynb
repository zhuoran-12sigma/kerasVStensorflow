{
 "cells": [
  {
   "cell_type": "code",
   "execution_count": 8,
   "metadata": {},
   "outputs": [],
   "source": [
    "from __future__ import print_function"
   ]
  },
  {
   "cell_type": "code",
   "execution_count": 9,
   "metadata": {},
   "outputs": [],
   "source": [
    "import keras"
   ]
  },
  {
   "cell_type": "code",
   "execution_count": 10,
   "metadata": {},
   "outputs": [],
   "source": [
    "from keras.datasets import mnist\n",
    "from keras.models import Sequential\n",
    "from keras.layers import Dense, Dropout, Flatten, Reshape\n",
    "from keras.layers import Conv2D, MaxPooling2D\n",
    "from keras import backend as K\n",
    "import tensorflow as tf\n",
    "import numpy as np"
   ]
  },
  {
   "cell_type": "code",
   "execution_count": 4,
   "metadata": {},
   "outputs": [
    {
     "name": "stdout",
     "output_type": "stream",
     "text": [
      "Extracting /temp/data/train-images-idx3-ubyte.gz\n",
      "Extracting /temp/data/train-labels-idx1-ubyte.gz\n",
      "Extracting /temp/data/t10k-images-idx3-ubyte.gz\n",
      "Extracting /temp/data/t10k-labels-idx1-ubyte.gz\n",
      "x_train shape: (49500, 784)\n",
      "y_train shape: (49500, 10)\n",
      "49500 train samples\n",
      "10000 test samples\n"
     ]
    }
   ],
   "source": [
    "batch_size = 128\n",
    "num_classes = 10\n",
    "epochs = 12\n",
    "\n",
    "# input image dimensions\n",
    "img_rows, img_cols = 28, 28\n",
    "from tensorflow.examples.tutorials.mnist import input_data\n",
    "mnist = input_data.read_data_sets(\"/temp/data/\", one_hot=True)\n",
    "x_train = mnist.train.images[:int(55000*0.9)] - 0.5  # Returns np.array\n",
    "y_train = mnist.train.labels[:int(55000*0.9)]\n",
    "x_val = mnist.train.images[int(55000*0.9):]-0.5\n",
    "y_val = mnist.train.labels[int(55000*0.9):]\n",
    "x_test = mnist.test.images - 0.5  # Returns np.array\n",
    "y_test = mnist.test.labels\n",
    "# x_train = x_train.reshape(x_train.shape[0], img_rows, img_cols, 1)\n",
    "# x_val = x_val.reshape(x_val.shape[0], img_rows, img_cols, 1)\n",
    "# x_test = x_test.reshape(x_test.shape[0], img_rows, img_cols, 1)\n",
    "# # the data, split between train and test sets\n",
    "# (x_train, y_train), (x_test, y_test) = mnist.load_data()\n",
    "\n",
    "# if K.image_data_format() == 'channels_first':\n",
    "#     x_train = x_train.reshape(x_train.shape[0], 1, img_rows, img_cols)\n",
    "#     x_test = x_test.reshape(x_test.shape[0], 1, img_rows, img_cols)\n",
    "#     input_shape = (1, img_rows, img_cols)\n",
    "# else:\n",
    "#     x_train = x_train.reshape(x_train.shape[0], img_rows, img_cols, 1)\n",
    "#     x_test = x_test.reshape(x_test.shape[0], img_rows, img_cols, 1)\n",
    "input_shape = (img_rows, img_cols, 1)\n",
    "\n",
    "# x_train = x_train.astype('float32')\n",
    "# x_test = x_test.astype('float32')\n",
    "# x_train /= 255\n",
    "# x_test /= 255\n",
    "print('x_train shape:', x_train.shape)\n",
    "print('y_train shape:', y_train.shape)\n",
    "print(x_train.shape[0], 'train samples')\n",
    "print(x_test.shape[0], 'test samples')"
   ]
  },
  {
   "cell_type": "code",
   "execution_count": 6,
   "metadata": {},
   "outputs": [
    {
     "data": {
      "text/plain": [
       "(784,)"
      ]
     },
     "execution_count": 6,
     "metadata": {},
     "output_type": "execute_result"
    }
   ],
   "source": [
    "x_train[0].shape"
   ]
  },
  {
   "cell_type": "code",
   "execution_count": 19,
   "metadata": {},
   "outputs": [
    {
     "name": "stdout",
     "output_type": "stream",
     "text": [
      "Train on 49500 samples, validate on 5500 samples\n",
      "Epoch 1/100\n",
      "49500/49500 [==============================] - 130s 3ms/step - loss: 0.1893 - acc: 0.9422 - val_loss: 0.1865 - val_acc: 0.9393\n",
      "Epoch 2/100\n",
      "49500/49500 [==============================] - 129s 3ms/step - loss: 0.0510 - acc: 0.9845 - val_loss: 0.1019 - val_acc: 0.9687\n",
      "Epoch 3/100\n",
      "49500/49500 [==============================] - 130s 3ms/step - loss: 0.0346 - acc: 0.9891 - val_loss: 0.0705 - val_acc: 0.9785\n",
      "Epoch 4/100\n",
      "49500/49500 [==============================] - 130s 3ms/step - loss: 0.0264 - acc: 0.9916 - val_loss: 0.0994 - val_acc: 0.9684\n",
      "Test loss: 0.03479329680593218\n",
      "Test accuracy: 0.9888\n"
     ]
    }
   ],
   "source": [
    "# convert class vectors to binary class matrices\n",
    "#y_train = keras.utils.to_categorical(y_train, num_classes)\n",
    "#y_test = keras.utils.to_categorical(y_test, num_classes)\n",
    "\n",
    "model = Sequential()\n",
    "model.add(Reshape((28, 28, 1), input_shape=(784,)))\n",
    "model.add(Conv2D(32, kernel_size=(5, 5),\n",
    "                 padding='same',\n",
    "                 activation='relu'))\n",
    "#                  kernel_initializer=None,\n",
    "#                  input_shape=input_shape))\n",
    "model.add(MaxPooling2D(pool_size=(2, 2), strides=2))\n",
    "model.add(Conv2D(64, kernel_size=(5, 5),\n",
    "                 padding='same',\n",
    "                 activation='relu'))\n",
    "#                  kernel_initializer=None))\n",
    "model.add(MaxPooling2D(pool_size=(2, 2), strides=2))\n",
    "model.add(Flatten())\n",
    "model.add(Dense(1024, activation='relu'))\n",
    "model.add(Dropout(0.4))\n",
    "# model.add(Flatten())\n",
    "# model.add(Dense(128, activation='relu'))\n",
    "# model.add(Dropout(0.5))\n",
    "model.add(Dense(num_classes, activation='softmax'))\n",
    "\n",
    "model.compile(loss=keras.losses.categorical_crossentropy,\n",
    "#               optimizer=keras.optimizers.SGD(lr=0.001),\n",
    "              optimizer=keras.optimizers.Adam(lr=0.001),\n",
    "              metrics=['accuracy'])\n",
    "earlyStopping = keras.callbacks.EarlyStopping(monitor='val_loss', patience=0, verbose=0, mode='auto') \n",
    "checkpoint = keras.callbacks.ModelCheckpoint(\"weights.{epoch:02d}-{val_loss:.2f}_1.hdf5\", monitor='val_loss', verbose=0, save_best_only=True, save_weights_only=False, mode='auto', period=1)\n",
    "model.fit(x_train, y_train,\n",
    "          batch_size=batch_size,\n",
    "          epochs=100,\n",
    "          verbose=1,\n",
    "          callbacks=[earlyStopping, checkpoint], \n",
    "          validation_data=(x_val, y_val),\n",
    "          shuffle = False)\n",
    "score = model.evaluate(x_test, y_test, verbose=0)\n",
    "print('Test loss:', score[0])\n",
    "print('Test accuracy:', score[1])"
   ]
  },
  {
   "cell_type": "code",
   "execution_count": 15,
   "metadata": {},
   "outputs": [],
   "source": [
    "model.save('model_keras_adam.h5')"
   ]
  },
  {
   "cell_type": "code",
   "execution_count": 16,
   "metadata": {},
   "outputs": [],
   "source": [
    "from keras.models import load_model"
   ]
  },
  {
   "cell_type": "code",
   "execution_count": 21,
   "metadata": {},
   "outputs": [],
   "source": [
    "model_new = load_model(\"weights.03-0.07_1.hdf5\")"
   ]
  },
  {
   "cell_type": "code",
   "execution_count": 22,
   "metadata": {},
   "outputs": [
    {
     "name": "stdout",
     "output_type": "stream",
     "text": [
      "Test loss: 0.029802681393036618\n",
      "Test accuracy: 0.9897\n"
     ]
    }
   ],
   "source": [
    "score = model_new.evaluate(x_test, y_test, verbose=0)\n",
    "print('Test loss:', score[0])\n",
    "print('Test accuracy:', score[1])"
   ]
  },
  {
   "cell_type": "code",
   "execution_count": 23,
   "metadata": {},
   "outputs": [],
   "source": [
    "def freeze_session(session, keep_var_names=None, output_names=None, clear_devices=True):\n",
    "    \"\"\"\n",
    "    Freezes the state of a session into a pruned computation graph.\n",
    "\n",
    "    Creates a new computation graph where variable nodes are replaced by\n",
    "    constants taking their current value in the session. The new graph will be\n",
    "    pruned so subgraphs that are not necessary to compute the requested\n",
    "    outputs are removed.\n",
    "    @param session The TensorFlow session to be frozen.\n",
    "    @param keep_var_names A list of variable names that should not be frozen,\n",
    "                          or None to freeze all the variables in the graph.\n",
    "    @param output_names Names of the relevant graph outputs.\n",
    "    @param clear_devices Remove the device directives from the graph for better portability.\n",
    "    @return The frozen graph definition.\n",
    "    \"\"\"\n",
    "    from tensorflow.python.framework.graph_util import convert_variables_to_constants\n",
    "    graph = session.graph\n",
    "    with graph.as_default():\n",
    "        freeze_var_names = list(set(v.op.name for v in tf.global_variables()).difference(keep_var_names or []))\n",
    "        output_names = output_names or []\n",
    "#         output_names += [v.op.name for v in tf.global_variables()]\n",
    "        input_graph_def = graph.as_graph_def()\n",
    "        if clear_devices:\n",
    "            for node in input_graph_def.node:\n",
    "                node.device = \"\"\n",
    "        frozen_graph = convert_variables_to_constants(session, input_graph_def,\n",
    "                                                      output_names, freeze_var_names)\n",
    "        return frozen_graph"
   ]
  },
  {
   "cell_type": "code",
   "execution_count": 24,
   "metadata": {},
   "outputs": [
    {
     "name": "stdout",
     "output_type": "stream",
     "text": [
      "INFO:tensorflow:Froze 8 variables.\n",
      "Converted 8 variables to const ops.\n"
     ]
    }
   ],
   "source": [
    "frozen_graph = freeze_session(K.get_session(), output_names=[model_new.output.op.name])"
   ]
  },
  {
   "cell_type": "code",
   "execution_count": 25,
   "metadata": {},
   "outputs": [
    {
     "data": {
      "text/plain": [
       "'.\\\\model_keras2tf_adam.pb'"
      ]
     },
     "execution_count": 25,
     "metadata": {},
     "output_type": "execute_result"
    }
   ],
   "source": [
    "tf.train.write_graph(frozen_graph,\".\", \"model_keras2tf_adam.pb\", as_text=False)"
   ]
  },
  {
   "cell_type": "code",
   "execution_count": 14,
   "metadata": {},
   "outputs": [
    {
     "data": {
      "text/plain": [
       "['conv2d_2/kernel',\n",
       " 'conv2d_2/bias',\n",
       " 'conv2d_3/kernel',\n",
       " 'conv2d_3/bias',\n",
       " 'dense_1/kernel',\n",
       " 'dense_1/bias',\n",
       " 'dense_2/kernel',\n",
       " 'dense_2/bias',\n",
       " 'Adam/iterations',\n",
       " 'Adam/lr',\n",
       " 'Adam/beta_1',\n",
       " 'Adam/beta_2',\n",
       " 'Adam/decay',\n",
       " 'training/Adam/Variable',\n",
       " 'training/Adam/Variable_1',\n",
       " 'training/Adam/Variable_2',\n",
       " 'training/Adam/Variable_3',\n",
       " 'training/Adam/Variable_4',\n",
       " 'training/Adam/Variable_5',\n",
       " 'training/Adam/Variable_6',\n",
       " 'training/Adam/Variable_7',\n",
       " 'training/Adam/Variable_8',\n",
       " 'training/Adam/Variable_9',\n",
       " 'training/Adam/Variable_10',\n",
       " 'training/Adam/Variable_11',\n",
       " 'training/Adam/Variable_12',\n",
       " 'training/Adam/Variable_13',\n",
       " 'training/Adam/Variable_14',\n",
       " 'training/Adam/Variable_15',\n",
       " 'training/Adam/Variable_16',\n",
       " 'training/Adam/Variable_17',\n",
       " 'training/Adam/Variable_18',\n",
       " 'training/Adam/Variable_19',\n",
       " 'training/Adam/Variable_20',\n",
       " 'training/Adam/Variable_21',\n",
       " 'training/Adam/Variable_22',\n",
       " 'training/Adam/Variable_23']"
      ]
     },
     "execution_count": 14,
     "metadata": {},
     "output_type": "execute_result"
    }
   ],
   "source": [
    "[v.op.name for v in tf.global_variables()]"
   ]
  },
  {
   "cell_type": "code",
   "execution_count": 14,
   "metadata": {},
   "outputs": [
    {
     "name": "stdout",
     "output_type": "stream",
     "text": [
      "Requirement already satisfied: h5py in c:\\users\\zgu\\anaconda3\\envs\\tensorflow\\lib\\site-packages\n",
      "Requirement already satisfied: numpy>=1.7 in c:\\users\\zgu\\anaconda3\\envs\\tensorflow\\lib\\site-packages (from h5py)\n",
      "Requirement already satisfied: six in c:\\users\\zgu\\anaconda3\\envs\\tensorflow\\lib\\site-packages (from h5py)\n"
     ]
    }
   ],
   "source": [
    "!pip install h5py"
   ]
  },
  {
   "cell_type": "code",
   "execution_count": null,
   "metadata": {},
   "outputs": [],
   "source": []
  }
 ],
 "metadata": {
  "kernelspec": {
   "display_name": "Python 3",
   "language": "python",
   "name": "python3"
  },
  "language_info": {
   "codemirror_mode": {
    "name": "ipython",
    "version": 3
   },
   "file_extension": ".py",
   "mimetype": "text/x-python",
   "name": "python",
   "nbconvert_exporter": "python",
   "pygments_lexer": "ipython3",
   "version": "3.6.4"
  }
 },
 "nbformat": 4,
 "nbformat_minor": 2
}
